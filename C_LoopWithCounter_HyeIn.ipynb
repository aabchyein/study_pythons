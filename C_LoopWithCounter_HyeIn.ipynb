{
  "nbformat": 4,
  "nbformat_minor": 0,
  "metadata": {
    "colab": {
      "provenance": [],
      "authorship_tag": "ABX9TyNou13YgqYhcDmNKvxpu/sa",
      "include_colab_link": true
    },
    "kernelspec": {
      "name": "python3",
      "display_name": "Python 3"
    },
    "language_info": {
      "name": "python"
    }
  },
  "cells": [
    {
      "cell_type": "markdown",
      "metadata": {
        "id": "view-in-github",
        "colab_type": "text"
      },
      "source": [
        "<a href=\"https://colab.research.google.com/github/aabchyein/toy_pythons/blob/main/C_LoopWithCounter_HyeIn.ipynb\" target=\"_parent\"><img src=\"https://colab.research.google.com/assets/colab-badge.svg\" alt=\"Open In Colab\"/></a>"
      ]
    },
    {
      "cell_type": "markdown",
      "source": [
        "요청사항\n",
        "*   5까지 1씩 증가하는 값 만들기\n",
        "\n",
        "\n"
      ],
      "metadata": {
        "id": "iPLItoWsu6P-"
      }
    },
    {
      "cell_type": "markdown",
      "source": [
        "count=숫자 라는 변수를 만든다."
      ],
      "metadata": {
        "id": "wXGootKdvoFW"
      }
    },
    {
      "cell_type": "code",
      "execution_count": 6,
      "metadata": {
        "id": "HuFp_20Auipa"
      },
      "outputs": [],
      "source": [
        "count=\"숫자\""
      ]
    },
    {
      "cell_type": "markdown",
      "source": [
        "count는 1이라는 값을 지정한다."
      ],
      "metadata": {
        "id": "q4GywzMbvzDN"
      }
    },
    {
      "cell_type": "code",
      "source": [
        "count=1"
      ],
      "metadata": {
        "id": "CsLa7m_4uyin"
      },
      "execution_count": 7,
      "outputs": []
    },
    {
      "cell_type": "markdown",
      "source": [
        "count값이 5이하면 count값을 출력한다."
      ],
      "metadata": {
        "id": "lwaa5muzv9Ke"
      }
    },
    {
      "cell_type": "code",
      "source": [
        "while count<=5 :\n",
        "  print(count)\n",
        "  count=count+1\n",
        "print(\"End\")\n"
      ],
      "metadata": {
        "colab": {
          "base_uri": "https://localhost:8080/"
        },
        "id": "zA9Wz1CHu4Jo",
        "outputId": "ce48ba51-87f5-4678-d390-43cbdeef24b1"
      },
      "execution_count": 8,
      "outputs": [
        {
          "output_type": "stream",
          "name": "stdout",
          "text": [
            "1\n",
            "2\n",
            "3\n",
            "4\n",
            "5\n",
            "End\n"
          ]
        }
      ]
    }
  ]
}