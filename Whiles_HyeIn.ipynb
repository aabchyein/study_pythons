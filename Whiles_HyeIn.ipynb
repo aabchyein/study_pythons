{
  "nbformat": 4,
  "nbformat_minor": 0,
  "metadata": {
    "colab": {
      "provenance": [],
      "authorship_tag": "ABX9TyPVBtZH3W4Lo1LPg1Nr2NwS",
      "include_colab_link": true
    },
    "kernelspec": {
      "name": "python3",
      "display_name": "Python 3"
    },
    "language_info": {
      "name": "python"
    }
  },
  "cells": [
    {
      "cell_type": "markdown",
      "metadata": {
        "id": "view-in-github",
        "colab_type": "text"
      },
      "source": [
        "<a href=\"https://colab.research.google.com/github/aabchyein/toy_pythons/blob/main/Whiles_HyeIn.ipynb\" target=\"_parent\"><img src=\"https://colab.research.google.com/assets/colab-badge.svg\" alt=\"Open In Colab\"/></a>"
      ]
    },
    {
      "cell_type": "code",
      "execution_count": 9,
      "metadata": {
        "id": "lMGZNNS7XgDU"
      },
      "outputs": [],
      "source": [
        "first = 1"
      ]
    },
    {
      "cell_type": "code",
      "source": [
        "while first < 4 :\n",
        "  print(first)\n",
        "  print('in whiling')\n",
        "  first = first + 1\n",
        "print(\"End\")"
      ],
      "metadata": {
        "colab": {
          "base_uri": "https://localhost:8080/"
        },
        "id": "tGBrnK-UYDcx",
        "outputId": "bbf93434-b07a-4ad9-cf7f-1719227db4cc"
      },
      "execution_count": 10,
      "outputs": [
        {
          "output_type": "stream",
          "name": "stdout",
          "text": [
            "1\n",
            "in whiling\n",
            "2\n",
            "in whiling\n",
            "3\n",
            "in whiling\n",
            "End\n"
          ]
        }
      ]
    },
    {
      "cell_type": "markdown",
      "source": [
        "# 두 번째 입력을 합니다."
      ],
      "metadata": {
        "id": "cbB-zCpsmjyU"
      }
    },
    {
      "cell_type": "code",
      "source": [],
      "metadata": {
        "id": "6B0-xweJmq5t"
      },
      "execution_count": null,
      "outputs": []
    }
  ]
}